{
 "cells": [
  {
   "cell_type": "code",
   "execution_count": 89,
   "metadata": {},
   "outputs": [],
   "source": [
    "from pyspark.sql import SparkSession\n",
    "spark = SparkSession.builder.appName(\"Chicago_crime_analysis\").getOrCreate()"
   ]
  },
  {
   "cell_type": "code",
   "execution_count": 90,
   "metadata": {},
   "outputs": [],
   "source": [
    "from pyspark.sql.types import  (StructType, \n",
    "                                StructField, \n",
    "                                DateType, \n",
    "                                BooleanType,\n",
    "                                DoubleType,\n",
    "                                IntegerType,\n",
    "                                StringType,\n",
    "                               TimestampType)\n",
    "crimes_schema = StructType([StructField(\"ID\", StringType(), True),\n",
    "                            StructField(\"CaseNumber\", StringType(), True),\n",
    "                            StructField(\"Date\", StringType(), True ),\n",
    "                            StructField(\"Block\", StringType(), True),\n",
    "                            StructField(\"IUCR\", StringType(), True),\n",
    "                            StructField(\"PrimaryType\", StringType(), True  ),\n",
    "                            StructField(\"Description\", StringType(), True ),\n",
    "                            StructField(\"LocationDescription\", StringType(), True ),\n",
    "                            StructField(\"Arrest\", BooleanType(), True),\n",
    "                            StructField(\"Domestic\", BooleanType(), True),\n",
    "                            StructField(\"Beat\", StringType(), True),\n",
    "                            StructField(\"District\", StringType(), True),\n",
    "                            StructField(\"Ward\", StringType(), True),\n",
    "                            StructField(\"CommunityArea\", StringType(), True),\n",
    "                            StructField(\"FBICode\", StringType(), True ),\n",
    "                            StructField(\"XCoordinate\", DoubleType(), True),\n",
    "                            StructField(\"YCoordinate\", DoubleType(), True ),\n",
    "                            StructField(\"Year\", IntegerType(), True),\n",
    "                            StructField(\"UpdatedOn\", DateType(), True ),\n",
    "                            StructField(\"Latitude\", DoubleType(), True),\n",
    "                            StructField(\"Longitude\", DoubleType(), True),\n",
    "                            StructField(\"Location\", StringType(), True )\n",
    "                            ])"
   ]
  },
  {
   "cell_type": "code",
   "execution_count": 94,
   "metadata": {},
   "outputs": [],
   "source": [
    "crimes = spark.read.csv(\"Crimes_-_2001_to_Present.csv\",\n",
    "                       header = True, \n",
    "                        schema = crimes_schema)"
   ]
  },
  {
   "cell_type": "code",
   "execution_count": 95,
   "metadata": {},
   "outputs": [],
   "source": [
    "crimes = crimes.dropna(how='all')"
   ]
  },
  {
   "cell_type": "code",
   "execution_count": 96,
   "metadata": {},
   "outputs": [
    {
     "data": {
      "text/plain": [
       "7248100"
      ]
     },
     "execution_count": 96,
     "metadata": {},
     "output_type": "execute_result"
    }
   ],
   "source": [
    "crimes.count()"
   ]
  },
  {
   "cell_type": "code",
   "execution_count": 97,
   "metadata": {},
   "outputs": [
    {
     "data": {
      "text/plain": [
       "['ID',\n",
       " 'CaseNumber',\n",
       " 'Date',\n",
       " 'Block',\n",
       " 'IUCR',\n",
       " 'PrimaryType',\n",
       " 'Description',\n",
       " 'LocationDescription',\n",
       " 'Arrest',\n",
       " 'Domestic',\n",
       " 'Beat',\n",
       " 'District',\n",
       " 'Ward',\n",
       " 'CommunityArea',\n",
       " 'FBICode',\n",
       " 'XCoordinate',\n",
       " 'YCoordinate',\n",
       " 'Year',\n",
       " 'UpdatedOn',\n",
       " 'Latitude',\n",
       " 'Longitude',\n",
       " 'Location']"
      ]
     },
     "execution_count": 97,
     "metadata": {},
     "output_type": "execute_result"
    }
   ],
   "source": [
    "crimes.columns"
   ]
  },
  {
   "cell_type": "code",
   "execution_count": 98,
   "metadata": {},
   "outputs": [],
   "source": [
    "from datetime import datetime\n",
    "from pyspark.sql.functions import col,udf\n",
    "myfunc =  udf(lambda x: datetime.strptime(x, '%m/%d/%Y %I:%M:%S %p'), TimestampType())\n",
    "df = crimes.withColumn('Date_time', myfunc(col('Date'))).drop(\"Date\")"
   ]
  },
  {
   "cell_type": "code",
   "execution_count": 99,
   "metadata": {},
   "outputs": [
    {
     "data": {
      "text/plain": [
       "36"
      ]
     },
     "execution_count": 99,
     "metadata": {},
     "output_type": "execute_result"
    }
   ],
   "source": [
    "crimes.select(\"PrimaryType\").distinct().count()"
   ]
  },
  {
   "cell_type": "markdown",
   "metadata": {},
   "source": [
    "## Answer 2 (Find number of ‘NARCOTICS’ cases filed in the year 2015)"
   ]
  },
  {
   "cell_type": "code",
   "execution_count": 101,
   "metadata": {},
   "outputs": [
    {
     "data": {
      "text/plain": [
       "23939"
      ]
     },
     "execution_count": 101,
     "metadata": {},
     "output_type": "execute_result"
    }
   ],
   "source": [
    "crimes.where((crimes[\"PrimaryType\"] == \"NARCOTICS\") & (crimes[\"Year\"] == 2015)).count()"
   ]
  },
  {
   "cell_type": "markdown",
   "metadata": {},
   "source": [
    "## Answer 1    (Find number of crimes that happened under each FBI code)"
   ]
  },
  {
   "cell_type": "code",
   "execution_count": 102,
   "metadata": {},
   "outputs": [
    {
     "name": "stdout",
     "output_type": "stream",
     "text": [
      "+-------+-------+\n",
      "|FBICode|  count|\n",
      "+-------+-------+\n",
      "|     06|1529047|\n",
      "|    08B|1133311|\n",
      "|     14| 825438|\n",
      "|     26| 725477|\n",
      "|     18| 692034|\n",
      "|     05| 407570|\n",
      "|    08A| 349208|\n",
      "|     07| 333905|\n",
      "|     03| 272457|\n",
      "|     11| 257900|\n",
      "|    04B| 195621|\n",
      "|    04A| 119948|\n",
      "|     15|  86355|\n",
      "|     16|  69429|\n",
      "|     24|  54109|\n",
      "|     10|  39741|\n",
      "|     02|  35328|\n",
      "|     17|  35307|\n",
      "|     20|  29367|\n",
      "|     19|  14886|\n",
      "|     22|  14452|\n",
      "|     09|  12026|\n",
      "|    01A|  10741|\n",
      "|     13|   2892|\n",
      "|     12|   1495|\n",
      "|    01B|     56|\n",
      "+-------+-------+\n",
      "\n"
     ]
    }
   ],
   "source": [
    "crimes.groupBy(\"FBICode\").count().orderBy('count', ascending=False).show(n=50)"
   ]
  },
  {
   "cell_type": "code",
   "execution_count": 27,
   "metadata": {},
   "outputs": [
    {
     "data": {
      "text/plain": [
       "26"
      ]
     },
     "execution_count": 27,
     "metadata": {},
     "output_type": "execute_result"
    }
   ],
   "source": [
    "# crimes.select(\"FBICode\").distinct().count()"
   ]
  },
  {
   "cell_type": "markdown",
   "metadata": {},
   "source": [
    "## Answer 4 (Find number of crimes happened per year)"
   ]
  },
  {
   "cell_type": "code",
   "execution_count": 103,
   "metadata": {},
   "outputs": [
    {
     "name": "stdout",
     "output_type": "stream",
     "text": [
      "+----+------+\n",
      "|Year| count|\n",
      "+----+------+\n",
      "|2002|486765|\n",
      "|2001|485785|\n",
      "|2003|475961|\n",
      "|2004|469398|\n",
      "|2005|453742|\n",
      "|2006|448140|\n",
      "|2007|437046|\n",
      "|2008|427110|\n",
      "|2009|392775|\n",
      "|2010|370407|\n",
      "|2011|351880|\n",
      "|2012|336151|\n",
      "|2013|307312|\n",
      "|2014|275574|\n",
      "|2016|269487|\n",
      "|2017|268696|\n",
      "|2018|268260|\n",
      "|2015|264465|\n",
      "|2019|260476|\n",
      "|2020|198670|\n",
      "+----+------+\n",
      "\n"
     ]
    }
   ],
   "source": [
    "crimes.groupBy(\"Year\").count().orderBy('count', ascending=False).show(n=50)"
   ]
  },
  {
   "cell_type": "markdown",
   "metadata": {},
   "source": [
    "## Answer 5 (Find number of crimes per month)"
   ]
  },
  {
   "cell_type": "code",
   "execution_count": 104,
   "metadata": {},
   "outputs": [],
   "source": [
    "from pyspark.sql.functions import year, month, dayofmonth"
   ]
  },
  {
   "cell_type": "markdown",
   "metadata": {},
   "source": []
  },
  {
   "cell_type": "code",
   "execution_count": 106,
   "metadata": {},
   "outputs": [],
   "source": [
    "df4 = df3.withColumn('Date_time',month(df3.Date_time))\n"
   ]
  },
  {
   "cell_type": "code",
   "execution_count": 107,
   "metadata": {},
   "outputs": [
    {
     "name": "stdout",
     "output_type": "stream",
     "text": [
      "+---------+------+\n",
      "|Date_time| count|\n",
      "+---------+------+\n",
      "|        1|568511|\n",
      "|        2|500670|\n",
      "|        3|594770|\n",
      "|        4|593189|\n",
      "|        5|644535|\n",
      "|        6|641622|\n",
      "|        7|675190|\n",
      "|        8|669029|\n",
      "|        9|626116|\n",
      "|       10|633044|\n",
      "|       11|569807|\n",
      "|       12|531617|\n",
      "+---------+------+\n",
      "\n"
     ]
    }
   ],
   "source": [
    "df4.groupBy(\"Date_time\").count().orderBy('Date_time', ascending=True).show()"
   ]
  },
  {
   "cell_type": "markdown",
   "metadata": {},
   "source": [
    "## Answer 6 (Where do most crimes take place?)"
   ]
  },
  {
   "cell_type": "code",
   "execution_count": 108,
   "metadata": {},
   "outputs": [],
   "source": [
    "crime_location  = crimes.groupBy(\"LocationDescription\").count().collect()"
   ]
  },
  {
   "cell_type": "code",
   "execution_count": 109,
   "metadata": {},
   "outputs": [],
   "source": [
    "location = [item[0] for item in crime_location]"
   ]
  },
  {
   "cell_type": "code",
   "execution_count": 110,
   "metadata": {},
   "outputs": [
    {
     "data": {
      "text/plain": [
       "215"
      ]
     },
     "execution_count": 110,
     "metadata": {},
     "output_type": "execute_result"
    }
   ],
   "source": [
    "len(location)"
   ]
  },
  {
   "cell_type": "code",
   "execution_count": 111,
   "metadata": {},
   "outputs": [
    {
     "name": "stdout",
     "output_type": "stream",
     "text": [
      "+-------------------+-------+\n",
      "|LocationDescription|  count|\n",
      "+-------------------+-------+\n",
      "|             STREET|1882911|\n",
      "+-------------------+-------+\n",
      "only showing top 1 row\n",
      "\n"
     ]
    }
   ],
   "source": [
    "crimes.groupBy(\"LocationDescription\").count().orderBy('count', ascending=False).show(n=1)"
   ]
  },
  {
   "cell_type": "code",
   "execution_count": null,
   "metadata": {},
   "outputs": [],
   "source": [
    "# crimes.where((crimes[\"PrimaryType\"] == \"NARCOTICS\") & (crimes[\"Year\"] == 2015)).count()"
   ]
  },
  {
   "cell_type": "markdown",
   "metadata": {},
   "source": [
    "## Answer 3"
   ]
  },
  {
   "cell_type": "code",
   "execution_count": 114,
   "metadata": {},
   "outputs": [
    {
     "name": "stdout",
     "output_type": "stream",
     "text": [
      "+--------+------+\n",
      "|District| count|\n",
      "+--------+------+\n",
      "|     009|356984|\n",
      "|     012|355198|\n",
      "|     024|216761|\n",
      "|    null|    47|\n",
      "|     031|   205|\n",
      "|     015|314537|\n",
      "|     006|421366|\n",
      "|     019|323249|\n",
      "|     020|126556|\n",
      "|     011|467402|\n",
      "|     025|415294|\n",
      "|     005|321937|\n",
      "|     003|367741|\n",
      "|     016|239909|\n",
      "|     018|322428|\n",
      "|     008|489631|\n",
      "|     022|237390|\n",
      "|     001|287945|\n",
      "|     014|283256|\n",
      "|     010|312477|\n",
      "+--------+------+\n",
      "only showing top 20 rows\n",
      "\n"
     ]
    }
   ],
   "source": [
    "crimes.groupBy(\"District\").count().show(20)"
   ]
  },
  {
   "cell_type": "markdown",
   "metadata": {},
   "source": [
    "## Answer 3 (Find the number of theft related arrests that happened in each district)"
   ]
  },
  {
   "cell_type": "code",
   "execution_count": 123,
   "metadata": {},
   "outputs": [
    {
     "name": "stdout",
     "output_type": "stream",
     "text": [
      "+--------+-----+\n",
      "|District|count|\n",
      "+--------+-----+\n",
      "|     001|21774|\n",
      "|     018|17503|\n",
      "|     025|13651|\n",
      "|     008|12962|\n",
      "|     006|12275|\n",
      "|     019|11188|\n",
      "|     012| 9153|\n",
      "|     009| 8509|\n",
      "|     002| 7894|\n",
      "|     017| 6818|\n",
      "|     014| 6364|\n",
      "|     004| 6117|\n",
      "|     003| 5772|\n",
      "|     024| 5579|\n",
      "|     011| 4973|\n",
      "|     007| 4648|\n",
      "|     016| 4308|\n",
      "|     010| 4301|\n",
      "|     020| 4166|\n",
      "|     022| 4149|\n",
      "|     005| 4106|\n",
      "|     015| 2986|\n",
      "+--------+-----+\n",
      "\n"
     ]
    }
   ],
   "source": [
    "crimes.where((crimes[\"PrimaryType\"] == \"THEFT\") & (crimes['Arrest']==\"TRUE\")).groupBy(\"District\").count().orderBy('count', ascending=False).show(n=50)"
   ]
  },
  {
   "cell_type": "code",
   "execution_count": 122,
   "metadata": {},
   "outputs": [],
   "source": [
    "from pyspark.sql import SQLContext"
   ]
  },
  {
   "cell_type": "code",
   "execution_count": null,
   "metadata": {},
   "outputs": [],
   "source": [
    "result=sqlContext.sql(\"select district ,count(*) as count from Crimes where Primary_type =’THEFT’ and arrest = ‘true’ group by district\")"
   ]
  }
 ],
 "metadata": {
  "kernelspec": {
   "display_name": "Python [conda env:mtw]",
   "language": "python",
   "name": "conda-env-mtw-py"
  },
  "language_info": {
   "codemirror_mode": {
    "name": "ipython",
    "version": 3
   },
   "file_extension": ".py",
   "mimetype": "text/x-python",
   "name": "python",
   "nbconvert_exporter": "python",
   "pygments_lexer": "ipython3",
   "version": "3.6.10"
  }
 },
 "nbformat": 4,
 "nbformat_minor": 4
}
